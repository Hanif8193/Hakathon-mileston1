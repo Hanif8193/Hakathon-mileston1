{
  "nbformat": 4,
  "nbformat_minor": 0,
  "metadata": {
    "colab": {
      "provenance": [],
      "authorship_tag": "ABX9TyNMnAaLVPPv37cM5MAwGodz",
      "include_colab_link": true
    },
    "kernelspec": {
      "name": "python3",
      "display_name": "Python 3"
    },
    "language_info": {
      "name": "python"
    }
  },
  "cells": [
    {
      "cell_type": "markdown",
      "metadata": {
        "id": "view-in-github",
        "colab_type": "text"
      },
      "source": [
        "<a href=\"https://colab.research.google.com/github/Hanif8193/Hakathon-mileston1/blob/main/Conditional.ipynb\" target=\"_parent\"><img src=\"https://colab.research.google.com/assets/colab-badge.svg\" alt=\"Open In Colab\"/></a>"
      ]
    },
    {
      "cell_type": "code",
      "execution_count": 8,
      "metadata": {
        "colab": {
          "base_uri": "https://localhost:8080/"
        },
        "id": "B-6vI0t17Ze1",
        "outputId": "23986a5d-0d75-47c0-eaa4-da852d163bf8"
      },
      "outputs": [
        {
          "output_type": "stream",
          "name": "stdout",
          "text": [
            "Enter your percentage: 92\n",
            "You got A+ Grade\n"
          ]
        }
      ],
      "source": [
        "\n",
        "result = int(input(\"Enter your percentage: \"))\n",
        "\n",
        "if result >= 80:\n",
        "    print(\"You got A+ Grade\")\n",
        "elif result >=70:\n",
        "  print(\"you got A grade\")\n",
        "elif result >= 60:\n",
        "  print(\"you got B grade\")\n",
        "elif result >= 50 :\n",
        "  print(\"you got C grade\")\n",
        "elif result >= 40:\n",
        "  print(\"you got D Grade\")\n",
        "else:\n",
        "    print(\"you are Fail\")"
      ]
    },
    {
      "cell_type": "code",
      "source": [],
      "metadata": {
        "id": "PDbw9YFC_9RM"
      },
      "execution_count": null,
      "outputs": []
    },
    {
      "cell_type": "code",
      "source": [],
      "metadata": {
        "id": "pFTWmTP07dFP"
      },
      "execution_count": null,
      "outputs": []
    }
  ]
}